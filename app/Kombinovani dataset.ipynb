{
 "cells": [
  {
   "cell_type": "code",
   "execution_count": 1,
   "id": "7d1da9a4",
   "metadata": {},
   "outputs": [],
   "source": [
    "import csv\n",
    "import numpy as np\n",
    "from nltk.tokenize import sent_tokenize, word_tokenize, WhitespaceTokenizer\n",
    "import warnings\n",
    "import gensim\n",
    "from gensim.models import Word2Vec, KeyedVectors\n",
    "import pandas as pd"
   ]
  },
  {
   "cell_type": "markdown",
   "id": "595d0f6a",
   "metadata": {},
   "source": [
    "## Prvi skup podataka"
   ]
  },
  {
   "cell_type": "code",
   "execution_count": 2,
   "id": "8907d201",
   "metadata": {},
   "outputs": [],
   "source": [
    "in_domain_train_tokenized = open(\"../dataset/cola_public_1.1/cola_public/tokenized/in_domain_train.tsv\")\n",
    "in_domain_dev_tokenized = open(\"../dataset/cola_public_1.1/cola_public/tokenized/in_domain_dev.tsv\")"
   ]
  },
  {
   "cell_type": "code",
   "execution_count": 3,
   "id": "42f54625",
   "metadata": {},
   "outputs": [],
   "source": [
    "read_train = csv.reader(in_domain_train_tokenized, delimiter=\"\\t\")\n",
    "train = []\n",
    "for row in read_train:\n",
    "    train.append(row)\n",
    "in_domain_train_tokenized.close()"
   ]
  },
  {
   "cell_type": "code",
   "execution_count": 4,
   "id": "0f15826d",
   "metadata": {},
   "outputs": [],
   "source": [
    "read_dev = csv.reader(in_domain_dev_tokenized, delimiter=\"\\t\")\n",
    "dev = []\n",
    "for row in read_dev:\n",
    "    dev.append(row)\n",
    "in_domain_dev_tokenized.close()"
   ]
  },
  {
   "cell_type": "code",
   "execution_count": 5,
   "id": "204afef1",
   "metadata": {},
   "outputs": [
    {
     "data": {
      "text/html": [
       "<div>\n",
       "<style scoped>\n",
       "    .dataframe tbody tr th:only-of-type {\n",
       "        vertical-align: middle;\n",
       "    }\n",
       "\n",
       "    .dataframe tbody tr th {\n",
       "        vertical-align: top;\n",
       "    }\n",
       "\n",
       "    .dataframe thead th {\n",
       "        text-align: right;\n",
       "    }\n",
       "</style>\n",
       "<table border=\"1\" class=\"dataframe\">\n",
       "  <thead>\n",
       "    <tr style=\"text-align: right;\">\n",
       "      <th></th>\n",
       "      <th>0</th>\n",
       "      <th>1</th>\n",
       "      <th>2</th>\n",
       "      <th>3</th>\n",
       "    </tr>\n",
       "  </thead>\n",
       "  <tbody>\n",
       "    <tr>\n",
       "      <th>0</th>\n",
       "      <td>gj04</td>\n",
       "      <td>1</td>\n",
       "      <td></td>\n",
       "      <td>our friends wo n't buy this analysis , let alo...</td>\n",
       "    </tr>\n",
       "    <tr>\n",
       "      <th>1</th>\n",
       "      <td>gj04</td>\n",
       "      <td>1</td>\n",
       "      <td></td>\n",
       "      <td>one more pseudo generalization and i 'm giving...</td>\n",
       "    </tr>\n",
       "    <tr>\n",
       "      <th>2</th>\n",
       "      <td>gj04</td>\n",
       "      <td>1</td>\n",
       "      <td></td>\n",
       "      <td>one more pseudo generalization or i 'm giving ...</td>\n",
       "    </tr>\n",
       "    <tr>\n",
       "      <th>3</th>\n",
       "      <td>gj04</td>\n",
       "      <td>1</td>\n",
       "      <td></td>\n",
       "      <td>the more we study verbs , the crazier they get .</td>\n",
       "    </tr>\n",
       "    <tr>\n",
       "      <th>4</th>\n",
       "      <td>gj04</td>\n",
       "      <td>1</td>\n",
       "      <td></td>\n",
       "      <td>day by day the facts are getting murkier .</td>\n",
       "    </tr>\n",
       "    <tr>\n",
       "      <th>...</th>\n",
       "      <td>...</td>\n",
       "      <td>...</td>\n",
       "      <td>...</td>\n",
       "      <td>...</td>\n",
       "    </tr>\n",
       "    <tr>\n",
       "      <th>8546</th>\n",
       "      <td>ad03</td>\n",
       "      <td>0</td>\n",
       "      <td>*</td>\n",
       "      <td>poseidon appears to own a dragon</td>\n",
       "    </tr>\n",
       "    <tr>\n",
       "      <th>8547</th>\n",
       "      <td>ad03</td>\n",
       "      <td>0</td>\n",
       "      <td>*</td>\n",
       "      <td>digitize is my happiest memory</td>\n",
       "    </tr>\n",
       "    <tr>\n",
       "      <th>8548</th>\n",
       "      <td>ad03</td>\n",
       "      <td>1</td>\n",
       "      <td></td>\n",
       "      <td>it is easy to slay the gorgon .</td>\n",
       "    </tr>\n",
       "    <tr>\n",
       "      <th>8549</th>\n",
       "      <td>ad03</td>\n",
       "      <td>1</td>\n",
       "      <td></td>\n",
       "      <td>i had the strangest feeling that i knew you .</td>\n",
       "    </tr>\n",
       "    <tr>\n",
       "      <th>8550</th>\n",
       "      <td>ad03</td>\n",
       "      <td>1</td>\n",
       "      <td></td>\n",
       "      <td>what all did you get for christmas ?</td>\n",
       "    </tr>\n",
       "  </tbody>\n",
       "</table>\n",
       "<p>8551 rows × 4 columns</p>\n",
       "</div>"
      ],
      "text/plain": [
       "         0  1  2                                                  3\n",
       "0     gj04  1     our friends wo n't buy this analysis , let alo...\n",
       "1     gj04  1     one more pseudo generalization and i 'm giving...\n",
       "2     gj04  1     one more pseudo generalization or i 'm giving ...\n",
       "3     gj04  1      the more we study verbs , the crazier they get .\n",
       "4     gj04  1            day by day the facts are getting murkier .\n",
       "...    ... .. ..                                                ...\n",
       "8546  ad03  0  *                   poseidon appears to own a dragon\n",
       "8547  ad03  0  *                     digitize is my happiest memory\n",
       "8548  ad03  1                       it is easy to slay the gorgon .\n",
       "8549  ad03  1         i had the strangest feeling that i knew you .\n",
       "8550  ad03  1                  what all did you get for christmas ?\n",
       "\n",
       "[8551 rows x 4 columns]"
      ]
     },
     "execution_count": 5,
     "metadata": {},
     "output_type": "execute_result"
    }
   ],
   "source": [
    "train_array = np.array(train)\n",
    "train_df = pd.DataFrame(train_array)\n",
    "train_df"
   ]
  },
  {
   "cell_type": "code",
   "execution_count": 6,
   "id": "1c5a4f4b",
   "metadata": {},
   "outputs": [
    {
     "data": {
      "text/html": [
       "<div>\n",
       "<style scoped>\n",
       "    .dataframe tbody tr th:only-of-type {\n",
       "        vertical-align: middle;\n",
       "    }\n",
       "\n",
       "    .dataframe tbody tr th {\n",
       "        vertical-align: top;\n",
       "    }\n",
       "\n",
       "    .dataframe thead th {\n",
       "        text-align: right;\n",
       "    }\n",
       "</style>\n",
       "<table border=\"1\" class=\"dataframe\">\n",
       "  <thead>\n",
       "    <tr style=\"text-align: right;\">\n",
       "      <th></th>\n",
       "      <th>0</th>\n",
       "      <th>1</th>\n",
       "      <th>2</th>\n",
       "      <th>3</th>\n",
       "    </tr>\n",
       "  </thead>\n",
       "  <tbody>\n",
       "    <tr>\n",
       "      <th>0</th>\n",
       "      <td>gj04</td>\n",
       "      <td>1</td>\n",
       "      <td></td>\n",
       "      <td>the sailors rode the breeze clear of the rocks .</td>\n",
       "    </tr>\n",
       "    <tr>\n",
       "      <th>1</th>\n",
       "      <td>gj04</td>\n",
       "      <td>1</td>\n",
       "      <td></td>\n",
       "      <td>the weights made the rope stretch over the pul...</td>\n",
       "    </tr>\n",
       "    <tr>\n",
       "      <th>2</th>\n",
       "      <td>gj04</td>\n",
       "      <td>1</td>\n",
       "      <td></td>\n",
       "      <td>the mechanical doll wriggled itself loose .</td>\n",
       "    </tr>\n",
       "    <tr>\n",
       "      <th>3</th>\n",
       "      <td>cj99</td>\n",
       "      <td>1</td>\n",
       "      <td></td>\n",
       "      <td>if you had eaten more , you would want less .</td>\n",
       "    </tr>\n",
       "    <tr>\n",
       "      <th>4</th>\n",
       "      <td>cj99</td>\n",
       "      <td>0</td>\n",
       "      <td>*</td>\n",
       "      <td>as you eat the most , you want the least .</td>\n",
       "    </tr>\n",
       "    <tr>\n",
       "      <th>...</th>\n",
       "      <td>...</td>\n",
       "      <td>...</td>\n",
       "      <td>...</td>\n",
       "      <td>...</td>\n",
       "    </tr>\n",
       "    <tr>\n",
       "      <th>522</th>\n",
       "      <td>ad03</td>\n",
       "      <td>0</td>\n",
       "      <td>*</td>\n",
       "      <td>i would like to could swim</td>\n",
       "    </tr>\n",
       "    <tr>\n",
       "      <th>523</th>\n",
       "      <td>ad03</td>\n",
       "      <td>1</td>\n",
       "      <td></td>\n",
       "      <td>i kicked myself</td>\n",
       "    </tr>\n",
       "    <tr>\n",
       "      <th>524</th>\n",
       "      <td>ad03</td>\n",
       "      <td>0</td>\n",
       "      <td>*</td>\n",
       "      <td>the bookcase ran</td>\n",
       "    </tr>\n",
       "    <tr>\n",
       "      <th>525</th>\n",
       "      <td>ad03</td>\n",
       "      <td>1</td>\n",
       "      <td></td>\n",
       "      <td>i shaved myself .</td>\n",
       "    </tr>\n",
       "    <tr>\n",
       "      <th>526</th>\n",
       "      <td>ad03</td>\n",
       "      <td>0</td>\n",
       "      <td>*</td>\n",
       "      <td>anson became a muscle bound .</td>\n",
       "    </tr>\n",
       "  </tbody>\n",
       "</table>\n",
       "<p>527 rows × 4 columns</p>\n",
       "</div>"
      ],
      "text/plain": [
       "        0  1  2                                                  3\n",
       "0    gj04  1      the sailors rode the breeze clear of the rocks .\n",
       "1    gj04  1     the weights made the rope stretch over the pul...\n",
       "2    gj04  1           the mechanical doll wriggled itself loose .\n",
       "3    cj99  1         if you had eaten more , you would want less .\n",
       "4    cj99  0  *         as you eat the most , you want the least .\n",
       "..    ... .. ..                                                ...\n",
       "522  ad03  0  *                         i would like to could swim\n",
       "523  ad03  1                                       i kicked myself\n",
       "524  ad03  0  *                                   the bookcase ran\n",
       "525  ad03  1                                     i shaved myself .\n",
       "526  ad03  0  *                      anson became a muscle bound .\n",
       "\n",
       "[527 rows x 4 columns]"
      ]
     },
     "execution_count": 6,
     "metadata": {},
     "output_type": "execute_result"
    }
   ],
   "source": [
    "dev_array = np.array(dev)\n",
    "dev_df = pd.DataFrame(dev_array)\n",
    "dev_df"
   ]
  },
  {
   "cell_type": "code",
   "execution_count": 7,
   "id": "4037ca3e",
   "metadata": {},
   "outputs": [],
   "source": [
    "df = pd.concat([train_df, dev_df])"
   ]
  },
  {
   "cell_type": "code",
   "execution_count": 8,
   "id": "e5710c7e",
   "metadata": {},
   "outputs": [],
   "source": [
    "ddf = df.drop([0, 2], axis=1)"
   ]
  },
  {
   "cell_type": "code",
   "execution_count": 9,
   "id": "a3fd2377",
   "metadata": {},
   "outputs": [],
   "source": [
    "prvi_df = ddf.rename(columns = {1:'Judgement', 3:'Sentence'}, inplace = False)"
   ]
  },
  {
   "cell_type": "code",
   "execution_count": 10,
   "id": "f9d0ef40",
   "metadata": {},
   "outputs": [
    {
     "data": {
      "text/html": [
       "<div>\n",
       "<style scoped>\n",
       "    .dataframe tbody tr th:only-of-type {\n",
       "        vertical-align: middle;\n",
       "    }\n",
       "\n",
       "    .dataframe tbody tr th {\n",
       "        vertical-align: top;\n",
       "    }\n",
       "\n",
       "    .dataframe thead th {\n",
       "        text-align: right;\n",
       "    }\n",
       "</style>\n",
       "<table border=\"1\" class=\"dataframe\">\n",
       "  <thead>\n",
       "    <tr style=\"text-align: right;\">\n",
       "      <th></th>\n",
       "      <th>Judgement</th>\n",
       "      <th>Sentence</th>\n",
       "    </tr>\n",
       "  </thead>\n",
       "  <tbody>\n",
       "    <tr>\n",
       "      <th>0</th>\n",
       "      <td>1</td>\n",
       "      <td>our friends wo n't buy this analysis , let alo...</td>\n",
       "    </tr>\n",
       "    <tr>\n",
       "      <th>1</th>\n",
       "      <td>1</td>\n",
       "      <td>one more pseudo generalization and i 'm giving...</td>\n",
       "    </tr>\n",
       "    <tr>\n",
       "      <th>2</th>\n",
       "      <td>1</td>\n",
       "      <td>one more pseudo generalization or i 'm giving ...</td>\n",
       "    </tr>\n",
       "    <tr>\n",
       "      <th>3</th>\n",
       "      <td>1</td>\n",
       "      <td>the more we study verbs , the crazier they get .</td>\n",
       "    </tr>\n",
       "    <tr>\n",
       "      <th>4</th>\n",
       "      <td>1</td>\n",
       "      <td>day by day the facts are getting murkier .</td>\n",
       "    </tr>\n",
       "    <tr>\n",
       "      <th>...</th>\n",
       "      <td>...</td>\n",
       "      <td>...</td>\n",
       "    </tr>\n",
       "    <tr>\n",
       "      <th>522</th>\n",
       "      <td>0</td>\n",
       "      <td>i would like to could swim</td>\n",
       "    </tr>\n",
       "    <tr>\n",
       "      <th>523</th>\n",
       "      <td>1</td>\n",
       "      <td>i kicked myself</td>\n",
       "    </tr>\n",
       "    <tr>\n",
       "      <th>524</th>\n",
       "      <td>0</td>\n",
       "      <td>the bookcase ran</td>\n",
       "    </tr>\n",
       "    <tr>\n",
       "      <th>525</th>\n",
       "      <td>1</td>\n",
       "      <td>i shaved myself .</td>\n",
       "    </tr>\n",
       "    <tr>\n",
       "      <th>526</th>\n",
       "      <td>0</td>\n",
       "      <td>anson became a muscle bound .</td>\n",
       "    </tr>\n",
       "  </tbody>\n",
       "</table>\n",
       "<p>9078 rows × 2 columns</p>\n",
       "</div>"
      ],
      "text/plain": [
       "    Judgement                                           Sentence\n",
       "0           1  our friends wo n't buy this analysis , let alo...\n",
       "1           1  one more pseudo generalization and i 'm giving...\n",
       "2           1  one more pseudo generalization or i 'm giving ...\n",
       "3           1   the more we study verbs , the crazier they get .\n",
       "4           1         day by day the facts are getting murkier .\n",
       "..        ...                                                ...\n",
       "522         0                         i would like to could swim\n",
       "523         1                                    i kicked myself\n",
       "524         0                                   the bookcase ran\n",
       "525         1                                  i shaved myself .\n",
       "526         0                      anson became a muscle bound .\n",
       "\n",
       "[9078 rows x 2 columns]"
      ]
     },
     "execution_count": 10,
     "metadata": {},
     "output_type": "execute_result"
    }
   ],
   "source": [
    "prvi_df"
   ]
  },
  {
   "cell_type": "markdown",
   "id": "6bc98092",
   "metadata": {},
   "source": [
    "## Drugi skup podataka"
   ]
  },
  {
   "cell_type": "code",
   "execution_count": 11,
   "id": "4ca89c80",
   "metadata": {},
   "outputs": [],
   "source": [
    "with open('../dataset/dataset_generated.txt') as f:\n",
    "    lines = f.readlines()"
   ]
  },
  {
   "cell_type": "code",
   "execution_count": 12,
   "id": "6697e5d2",
   "metadata": {},
   "outputs": [],
   "source": [
    "x = \"no authors that the guards like have ever been popular . <eos>\\n\""
   ]
  },
  {
   "cell_type": "code",
   "execution_count": 13,
   "id": "37a0b0e2",
   "metadata": {},
   "outputs": [],
   "source": [
    "k = lines.index(x)"
   ]
  },
  {
   "cell_type": "code",
   "execution_count": 14,
   "id": "1699b761",
   "metadata": {},
   "outputs": [],
   "source": [
    "sentences1 = []\n",
    "judgement1 = []\n",
    "for i in range(len(lines[:k])):\n",
    "    line = lines[i].split(\".\")\n",
    "    sent = line[0]\n",
    "    sentences1.append(sent)\n",
    "    correct = 0\n",
    "    if (i % 2) == 0:\n",
    "        correct = 1\n",
    "    judgement1.append(correct)"
   ]
  },
  {
   "cell_type": "code",
   "execution_count": 15,
   "id": "0f2c0bdb",
   "metadata": {},
   "outputs": [],
   "source": [
    "df1 = pd.DataFrame(list(zip(judgement1, sentences1)), columns =['Judgement', 'Sentence'])"
   ]
  },
  {
   "cell_type": "code",
   "execution_count": 16,
   "id": "50ce127d",
   "metadata": {},
   "outputs": [
    {
     "data": {
      "text/html": [
       "<div>\n",
       "<style scoped>\n",
       "    .dataframe tbody tr th:only-of-type {\n",
       "        vertical-align: middle;\n",
       "    }\n",
       "\n",
       "    .dataframe tbody tr th {\n",
       "        vertical-align: top;\n",
       "    }\n",
       "\n",
       "    .dataframe thead th {\n",
       "        text-align: right;\n",
       "    }\n",
       "</style>\n",
       "<table border=\"1\" class=\"dataframe\">\n",
       "  <thead>\n",
       "    <tr style=\"text-align: right;\">\n",
       "      <th></th>\n",
       "      <th>Judgement</th>\n",
       "      <th>Sentence</th>\n",
       "    </tr>\n",
       "  </thead>\n",
       "  <tbody>\n",
       "    <tr>\n",
       "      <th>0</th>\n",
       "      <td>1</td>\n",
       "      <td>the author that the guard likes laughs</td>\n",
       "    </tr>\n",
       "    <tr>\n",
       "      <th>1</th>\n",
       "      <td>0</td>\n",
       "      <td>the author that the guard likes laugh</td>\n",
       "    </tr>\n",
       "    <tr>\n",
       "      <th>2</th>\n",
       "      <td>1</td>\n",
       "      <td>the author that the guard likes swims</td>\n",
       "    </tr>\n",
       "    <tr>\n",
       "      <th>3</th>\n",
       "      <td>0</td>\n",
       "      <td>the author that the guard likes swim</td>\n",
       "    </tr>\n",
       "    <tr>\n",
       "      <th>4</th>\n",
       "      <td>1</td>\n",
       "      <td>the author that the guard likes smiles</td>\n",
       "    </tr>\n",
       "    <tr>\n",
       "      <th>...</th>\n",
       "      <td>...</td>\n",
       "      <td>...</td>\n",
       "    </tr>\n",
       "    <tr>\n",
       "      <th>294515</th>\n",
       "      <td>0</td>\n",
       "      <td>the bankers knew the consultants hated herself</td>\n",
       "    </tr>\n",
       "    <tr>\n",
       "      <th>294516</th>\n",
       "      <td>1</td>\n",
       "      <td>the bankers knew the consultants doubted thems...</td>\n",
       "    </tr>\n",
       "    <tr>\n",
       "      <th>294517</th>\n",
       "      <td>0</td>\n",
       "      <td>the bankers knew the consultants doubted himself</td>\n",
       "    </tr>\n",
       "    <tr>\n",
       "      <th>294518</th>\n",
       "      <td>1</td>\n",
       "      <td>the bankers knew the consultants doubted thems...</td>\n",
       "    </tr>\n",
       "    <tr>\n",
       "      <th>294519</th>\n",
       "      <td>0</td>\n",
       "      <td>the bankers knew the consultants doubted herself</td>\n",
       "    </tr>\n",
       "  </tbody>\n",
       "</table>\n",
       "<p>294520 rows × 2 columns</p>\n",
       "</div>"
      ],
      "text/plain": [
       "        Judgement                                           Sentence\n",
       "0               1            the author that the guard likes laughs \n",
       "1               0             the author that the guard likes laugh \n",
       "2               1             the author that the guard likes swims \n",
       "3               0              the author that the guard likes swim \n",
       "4               1            the author that the guard likes smiles \n",
       "...           ...                                                ...\n",
       "294515          0    the bankers knew the consultants hated herself \n",
       "294516          1  the bankers knew the consultants doubted thems...\n",
       "294517          0  the bankers knew the consultants doubted himself \n",
       "294518          1  the bankers knew the consultants doubted thems...\n",
       "294519          0  the bankers knew the consultants doubted herself \n",
       "\n",
       "[294520 rows x 2 columns]"
      ]
     },
     "execution_count": 16,
     "metadata": {},
     "output_type": "execute_result"
    }
   ],
   "source": [
    "df1"
   ]
  },
  {
   "cell_type": "code",
   "execution_count": 17,
   "id": "2ea35eea",
   "metadata": {},
   "outputs": [],
   "source": [
    "sentences2 = []\n",
    "judgement2 = []\n",
    "for i in range(len(lines[k:])):\n",
    "    j = k + i\n",
    "    line = lines[j].split(\".\")\n",
    "    sent = line[0]\n",
    "    sentences2.append(sent)\n",
    "    correct = 0\n",
    "    if (j % 3) == 1:\n",
    "        correct = 1\n",
    "    judgement2.append(correct)"
   ]
  },
  {
   "cell_type": "code",
   "execution_count": 18,
   "id": "392fa7c0",
   "metadata": {},
   "outputs": [],
   "source": [
    "df2 = pd.DataFrame(list(zip(judgement2, sentences2)), columns =['Judgement', 'Sentence'])"
   ]
  },
  {
   "cell_type": "code",
   "execution_count": 19,
   "id": "d6a00e3a",
   "metadata": {},
   "outputs": [
    {
     "data": {
      "text/html": [
       "<div>\n",
       "<style scoped>\n",
       "    .dataframe tbody tr th:only-of-type {\n",
       "        vertical-align: middle;\n",
       "    }\n",
       "\n",
       "    .dataframe tbody tr th {\n",
       "        vertical-align: top;\n",
       "    }\n",
       "\n",
       "    .dataframe thead th {\n",
       "        text-align: right;\n",
       "    }\n",
       "</style>\n",
       "<table border=\"1\" class=\"dataframe\">\n",
       "  <thead>\n",
       "    <tr style=\"text-align: right;\">\n",
       "      <th></th>\n",
       "      <th>Judgement</th>\n",
       "      <th>Sentence</th>\n",
       "    </tr>\n",
       "  </thead>\n",
       "  <tbody>\n",
       "    <tr>\n",
       "      <th>0</th>\n",
       "      <td>1</td>\n",
       "      <td>no authors that the guards like have ever been...</td>\n",
       "    </tr>\n",
       "    <tr>\n",
       "      <th>1</th>\n",
       "      <td>0</td>\n",
       "      <td>the authors that no guards like have ever been...</td>\n",
       "    </tr>\n",
       "    <tr>\n",
       "      <th>2</th>\n",
       "      <td>0</td>\n",
       "      <td>most authors that the guards like have ever be...</td>\n",
       "    </tr>\n",
       "    <tr>\n",
       "      <th>3</th>\n",
       "      <td>1</td>\n",
       "      <td>no authors that the guards like have ever been...</td>\n",
       "    </tr>\n",
       "    <tr>\n",
       "      <th>4</th>\n",
       "      <td>0</td>\n",
       "      <td>the authors that no guards like have ever been...</td>\n",
       "    </tr>\n",
       "    <tr>\n",
       "      <th>...</th>\n",
       "      <td>...</td>\n",
       "      <td>...</td>\n",
       "    </tr>\n",
       "    <tr>\n",
       "      <th>30253</th>\n",
       "      <td>0</td>\n",
       "      <td>some shows will ever be ignored</td>\n",
       "    </tr>\n",
       "    <tr>\n",
       "      <th>30254</th>\n",
       "      <td>0</td>\n",
       "      <td>many shows will ever be ignored</td>\n",
       "    </tr>\n",
       "    <tr>\n",
       "      <th>30255</th>\n",
       "      <td>1</td>\n",
       "      <td>few shows will ever get old</td>\n",
       "    </tr>\n",
       "    <tr>\n",
       "      <th>30256</th>\n",
       "      <td>0</td>\n",
       "      <td>some shows will ever get old</td>\n",
       "    </tr>\n",
       "    <tr>\n",
       "      <th>30257</th>\n",
       "      <td>0</td>\n",
       "      <td>many shows will ever get old</td>\n",
       "    </tr>\n",
       "  </tbody>\n",
       "</table>\n",
       "<p>30258 rows × 2 columns</p>\n",
       "</div>"
      ],
      "text/plain": [
       "       Judgement                                           Sentence\n",
       "0              1  no authors that the guards like have ever been...\n",
       "1              0  the authors that no guards like have ever been...\n",
       "2              0  most authors that the guards like have ever be...\n",
       "3              1  no authors that the guards like have ever been...\n",
       "4              0  the authors that no guards like have ever been...\n",
       "...          ...                                                ...\n",
       "30253          0                   some shows will ever be ignored \n",
       "30254          0                   many shows will ever be ignored \n",
       "30255          1                       few shows will ever get old \n",
       "30256          0                      some shows will ever get old \n",
       "30257          0                      many shows will ever get old \n",
       "\n",
       "[30258 rows x 2 columns]"
      ]
     },
     "execution_count": 19,
     "metadata": {},
     "output_type": "execute_result"
    }
   ],
   "source": [
    "df2"
   ]
  },
  {
   "cell_type": "code",
   "execution_count": 20,
   "id": "37d6c4da",
   "metadata": {},
   "outputs": [],
   "source": [
    "list_sent = sentences1 + sentences2"
   ]
  },
  {
   "cell_type": "code",
   "execution_count": 21,
   "id": "e3168cf2",
   "metadata": {},
   "outputs": [],
   "source": [
    "list_sent_tkn = []\n",
    "for sent in list_sent:\n",
    "    list_sent_tkn.append(word_tokenize(sent))"
   ]
  },
  {
   "cell_type": "code",
   "execution_count": 22,
   "id": "e9187c5b",
   "metadata": {},
   "outputs": [],
   "source": [
    "drugi_df = pd.concat([df1, df2])"
   ]
  },
  {
   "cell_type": "code",
   "execution_count": 23,
   "id": "717d2e0c",
   "metadata": {},
   "outputs": [
    {
     "data": {
      "text/html": [
       "<div>\n",
       "<style scoped>\n",
       "    .dataframe tbody tr th:only-of-type {\n",
       "        vertical-align: middle;\n",
       "    }\n",
       "\n",
       "    .dataframe tbody tr th {\n",
       "        vertical-align: top;\n",
       "    }\n",
       "\n",
       "    .dataframe thead th {\n",
       "        text-align: right;\n",
       "    }\n",
       "</style>\n",
       "<table border=\"1\" class=\"dataframe\">\n",
       "  <thead>\n",
       "    <tr style=\"text-align: right;\">\n",
       "      <th></th>\n",
       "      <th>Judgement</th>\n",
       "      <th>Sentence</th>\n",
       "    </tr>\n",
       "  </thead>\n",
       "  <tbody>\n",
       "    <tr>\n",
       "      <th>0</th>\n",
       "      <td>1</td>\n",
       "      <td>the author that the guard likes laughs</td>\n",
       "    </tr>\n",
       "    <tr>\n",
       "      <th>1</th>\n",
       "      <td>0</td>\n",
       "      <td>the author that the guard likes laugh</td>\n",
       "    </tr>\n",
       "    <tr>\n",
       "      <th>2</th>\n",
       "      <td>1</td>\n",
       "      <td>the author that the guard likes swims</td>\n",
       "    </tr>\n",
       "    <tr>\n",
       "      <th>3</th>\n",
       "      <td>0</td>\n",
       "      <td>the author that the guard likes swim</td>\n",
       "    </tr>\n",
       "    <tr>\n",
       "      <th>4</th>\n",
       "      <td>1</td>\n",
       "      <td>the author that the guard likes smiles</td>\n",
       "    </tr>\n",
       "    <tr>\n",
       "      <th>...</th>\n",
       "      <td>...</td>\n",
       "      <td>...</td>\n",
       "    </tr>\n",
       "    <tr>\n",
       "      <th>30253</th>\n",
       "      <td>0</td>\n",
       "      <td>some shows will ever be ignored</td>\n",
       "    </tr>\n",
       "    <tr>\n",
       "      <th>30254</th>\n",
       "      <td>0</td>\n",
       "      <td>many shows will ever be ignored</td>\n",
       "    </tr>\n",
       "    <tr>\n",
       "      <th>30255</th>\n",
       "      <td>1</td>\n",
       "      <td>few shows will ever get old</td>\n",
       "    </tr>\n",
       "    <tr>\n",
       "      <th>30256</th>\n",
       "      <td>0</td>\n",
       "      <td>some shows will ever get old</td>\n",
       "    </tr>\n",
       "    <tr>\n",
       "      <th>30257</th>\n",
       "      <td>0</td>\n",
       "      <td>many shows will ever get old</td>\n",
       "    </tr>\n",
       "  </tbody>\n",
       "</table>\n",
       "<p>324778 rows × 2 columns</p>\n",
       "</div>"
      ],
      "text/plain": [
       "       Judgement                                 Sentence\n",
       "0              1  the author that the guard likes laughs \n",
       "1              0   the author that the guard likes laugh \n",
       "2              1   the author that the guard likes swims \n",
       "3              0    the author that the guard likes swim \n",
       "4              1  the author that the guard likes smiles \n",
       "...          ...                                      ...\n",
       "30253          0         some shows will ever be ignored \n",
       "30254          0         many shows will ever be ignored \n",
       "30255          1             few shows will ever get old \n",
       "30256          0            some shows will ever get old \n",
       "30257          0            many shows will ever get old \n",
       "\n",
       "[324778 rows x 2 columns]"
      ]
     },
     "execution_count": 23,
     "metadata": {},
     "output_type": "execute_result"
    }
   ],
   "source": [
    "drugi_df"
   ]
  },
  {
   "cell_type": "markdown",
   "id": "4911b34d",
   "metadata": {},
   "source": [
    "## Spajanje skupova podataka"
   ]
  },
  {
   "cell_type": "code",
   "execution_count": 24,
   "id": "83a77ab3",
   "metadata": {},
   "outputs": [],
   "source": [
    "kombinovani_df = pd.concat([prvi_df, drugi_df])"
   ]
  },
  {
   "cell_type": "code",
   "execution_count": 25,
   "id": "fcc92f07",
   "metadata": {},
   "outputs": [
    {
     "data": {
      "text/html": [
       "<div>\n",
       "<style scoped>\n",
       "    .dataframe tbody tr th:only-of-type {\n",
       "        vertical-align: middle;\n",
       "    }\n",
       "\n",
       "    .dataframe tbody tr th {\n",
       "        vertical-align: top;\n",
       "    }\n",
       "\n",
       "    .dataframe thead th {\n",
       "        text-align: right;\n",
       "    }\n",
       "</style>\n",
       "<table border=\"1\" class=\"dataframe\">\n",
       "  <thead>\n",
       "    <tr style=\"text-align: right;\">\n",
       "      <th></th>\n",
       "      <th>Judgement</th>\n",
       "      <th>Sentence</th>\n",
       "    </tr>\n",
       "  </thead>\n",
       "  <tbody>\n",
       "    <tr>\n",
       "      <th>0</th>\n",
       "      <td>1</td>\n",
       "      <td>our friends wo n't buy this analysis , let alo...</td>\n",
       "    </tr>\n",
       "    <tr>\n",
       "      <th>1</th>\n",
       "      <td>1</td>\n",
       "      <td>one more pseudo generalization and i 'm giving...</td>\n",
       "    </tr>\n",
       "    <tr>\n",
       "      <th>2</th>\n",
       "      <td>1</td>\n",
       "      <td>one more pseudo generalization or i 'm giving ...</td>\n",
       "    </tr>\n",
       "    <tr>\n",
       "      <th>3</th>\n",
       "      <td>1</td>\n",
       "      <td>the more we study verbs , the crazier they get .</td>\n",
       "    </tr>\n",
       "    <tr>\n",
       "      <th>4</th>\n",
       "      <td>1</td>\n",
       "      <td>day by day the facts are getting murkier .</td>\n",
       "    </tr>\n",
       "    <tr>\n",
       "      <th>...</th>\n",
       "      <td>...</td>\n",
       "      <td>...</td>\n",
       "    </tr>\n",
       "    <tr>\n",
       "      <th>30253</th>\n",
       "      <td>0</td>\n",
       "      <td>some shows will ever be ignored</td>\n",
       "    </tr>\n",
       "    <tr>\n",
       "      <th>30254</th>\n",
       "      <td>0</td>\n",
       "      <td>many shows will ever be ignored</td>\n",
       "    </tr>\n",
       "    <tr>\n",
       "      <th>30255</th>\n",
       "      <td>1</td>\n",
       "      <td>few shows will ever get old</td>\n",
       "    </tr>\n",
       "    <tr>\n",
       "      <th>30256</th>\n",
       "      <td>0</td>\n",
       "      <td>some shows will ever get old</td>\n",
       "    </tr>\n",
       "    <tr>\n",
       "      <th>30257</th>\n",
       "      <td>0</td>\n",
       "      <td>many shows will ever get old</td>\n",
       "    </tr>\n",
       "  </tbody>\n",
       "</table>\n",
       "<p>333856 rows × 2 columns</p>\n",
       "</div>"
      ],
      "text/plain": [
       "      Judgement                                           Sentence\n",
       "0             1  our friends wo n't buy this analysis , let alo...\n",
       "1             1  one more pseudo generalization and i 'm giving...\n",
       "2             1  one more pseudo generalization or i 'm giving ...\n",
       "3             1   the more we study verbs , the crazier they get .\n",
       "4             1         day by day the facts are getting murkier .\n",
       "...         ...                                                ...\n",
       "30253         0                   some shows will ever be ignored \n",
       "30254         0                   many shows will ever be ignored \n",
       "30255         1                       few shows will ever get old \n",
       "30256         0                      some shows will ever get old \n",
       "30257         0                      many shows will ever get old \n",
       "\n",
       "[333856 rows x 2 columns]"
      ]
     },
     "execution_count": 25,
     "metadata": {},
     "output_type": "execute_result"
    }
   ],
   "source": [
    "kombinovani_df"
   ]
  },
  {
   "cell_type": "markdown",
   "id": "c8d77fbc",
   "metadata": {},
   "source": [
    "## W2V model"
   ]
  },
  {
   "cell_type": "code",
   "execution_count": 26,
   "id": "a9c5db05",
   "metadata": {},
   "outputs": [],
   "source": [
    "# w2v_model = Word2Vec(list_sent_tkn, min_count=1, vector_size= 50, workers=3, window=3)\n",
    "# words = list(w2v_model.wv.index_to_key)\n",
    "# print(len(words))"
   ]
  },
  {
   "cell_type": "code",
   "execution_count": 27,
   "id": "b9659474",
   "metadata": {},
   "outputs": [],
   "source": [
    "word2vec_model = KeyedVectors.load_word2vec_format('embedding.txt', binary=False)"
   ]
  },
  {
   "cell_type": "code",
   "execution_count": 28,
   "id": "e47f5352",
   "metadata": {},
   "outputs": [
    {
     "name": "stdout",
     "output_type": "stream",
     "text": [
      "14532\n"
     ]
    }
   ],
   "source": [
    "words = list(word2vec_model.index_to_key)\n",
    "print(len(words))"
   ]
  },
  {
   "cell_type": "code",
   "execution_count": 29,
   "id": "e8d59a81",
   "metadata": {},
   "outputs": [
    {
     "name": "stdout",
     "output_type": "stream",
     "text": [
      "The no of key-value pairs :  14532\n"
     ]
    }
   ],
   "source": [
    "word_vec_dict={}\n",
    "for word in words:\n",
    "    word_vec_dict[word]=word2vec_model.get_vector(word)\n",
    "print(\"The no of key-value pairs : \",len(word_vec_dict)) # should come equal to vocab size"
   ]
  },
  {
   "cell_type": "code",
   "execution_count": 30,
   "id": "951d8447",
   "metadata": {},
   "outputs": [
    {
     "name": "stdout",
     "output_type": "stream",
     "text": [
      "14532 300\n"
     ]
    }
   ],
   "source": [
    "w2v_weights = word2vec_model.vectors\n",
    "vocab_size, embedding_size = w2v_weights.shape\n",
    "print(vocab_size, embedding_size)\n",
    "MAX_SEQUENCE_LENGTH = 200"
   ]
  },
  {
   "cell_type": "markdown",
   "id": "df5fd5e2",
   "metadata": {},
   "source": [
    "## LSTM"
   ]
  },
  {
   "cell_type": "code",
   "execution_count": 31,
   "id": "7b0ca688",
   "metadata": {},
   "outputs": [],
   "source": [
    "from keras.models import Sequential\n",
    "from keras.layers import *\n",
    "from keras.preprocessing.sequence import pad_sequences\n",
    "from keras.preprocessing.text import Tokenizer\n",
    "from keras.initializers import Constant\n",
    "import gensim\n",
    "import sys\n",
    "import numpy as np\n",
    "import pandas as pd\n",
    "import string\n",
    "import logging\n",
    "import random\n",
    "import keras\n",
    "import matplotlib.pyplot as plt"
   ]
  },
  {
   "cell_type": "code",
   "execution_count": 32,
   "id": "1714eedd",
   "metadata": {},
   "outputs": [
    {
     "name": "stdout",
     "output_type": "stream",
     "text": [
      "5552\n"
     ]
    }
   ],
   "source": [
    "from sklearn.model_selection import train_test_split\n",
    "from sklearn.preprocessing import LabelEncoder\n",
    "from tensorflow.keras.utils import to_categorical\n",
    "\n",
    "\n",
    "maxi=-1\n",
    "for i,rev in enumerate(kombinovani_df['Sentence']):\n",
    "  tokens=rev.split()\n",
    "  if(len(tokens)>maxi):\n",
    "    maxi=len(tokens)\n",
    "\n",
    "\n",
    "tok = Tokenizer(filters='')\n",
    "tok.fit_on_texts(kombinovani_df['Sentence'])\n",
    "vocab_size = len(tok.word_index) + 1\n",
    "encd_rev = tok.texts_to_sequences(kombinovani_df['Sentence'])\n",
    "\n",
    "print(vocab_size)"
   ]
  },
  {
   "cell_type": "code",
   "execution_count": 33,
   "id": "fb458896",
   "metadata": {},
   "outputs": [
    {
     "name": "stdout",
     "output_type": "stream",
     "text": [
      "[[ 358  396  368 ...    0    0    0]\n",
      " [ 222  162 2763 ...    0    0    0]\n",
      " [ 222  162 2763 ...    0    0    0]\n",
      " ...\n",
      " [  82   92   34 ...    0    0    0]\n",
      " [ 184   92   34 ...    0    0    0]\n",
      " [ 112   92   34 ...    0    0    0]]\n",
      "(333856, 45)\n"
     ]
    }
   ],
   "source": [
    "pad_rev= pad_sequences(encd_rev, maxlen=maxi+1, padding='post')\n",
    "pad_rev.shape   # note that we had 100K reviews and we have padded each review to have  a lenght of 1565 words.\n",
    "print(pad_rev)\n",
    "print(pad_rev.shape)"
   ]
  },
  {
   "cell_type": "code",
   "execution_count": 34,
   "id": "3b7ead46",
   "metadata": {},
   "outputs": [
    {
     "name": "stdout",
     "output_type": "stream",
     "text": [
      "(267084, 45)\n",
      "(267084, 2)\n",
      "(33386, 45)\n",
      "(33386, 2)\n",
      "(33386, 45)\n",
      "(33386, 2)\n"
     ]
    },
    {
     "data": {
      "text/plain": [
       "(None, None)"
      ]
     },
     "execution_count": 34,
     "metadata": {},
     "output_type": "execute_result"
    }
   ],
   "source": [
    "# now creating the embedding matrix\n",
    "embed_matrix=np.zeros(shape=(vocab_size,embedding_size))\n",
    "# print(len(tok.word_index.items()))\n",
    "for word,i in tok.word_index.items():\n",
    "  embed_vector=word_vec_dict.get(word)\n",
    "  if embed_vector is not None:  # word is in the vocabulary learned by the w2v model\n",
    "    embed_matrix[i]=embed_vector\n",
    "  # if word is not found then embed_vector corressponding to that vector will stay zero.\n",
    "\n",
    "train_size=0.8\n",
    "\n",
    "y = np.array(kombinovani_df['Judgement'].tolist())\n",
    "\n",
    "leinst = LabelEncoder()\n",
    "yinst = leinst.fit_transform(y)\n",
    "\n",
    "ycat = to_categorical(kombinovani_df['Judgement'])  # one hot target as required by NN\n",
    "# print(ycat)\n",
    "# X_train, X_rem, y_train, y_rem = train_test_split(X,y, train_size=0.8)\n",
    "X_train, X_test, y_train, y_test = train_test_split(pad_rev, ycat, test_size=0.2, shuffle=True, random_state=42)\n",
    "\n",
    "# test_size = 0.5\n",
    "# X_valid, X_test, y_valid, y_test = train_test_split(X_rem,y_rem, test_size=0.5)\n",
    "X_test, X_validation, y_test, y_validation = train_test_split(X_test, y_test, test_size=0.5, shuffle=True, random_state=42)\n",
    "\n",
    "\n",
    "print(X_train.shape), print(y_train.shape)\n",
    "print(X_validation.shape), print(y_validation.shape)\n",
    "print(X_test.shape), print(y_test.shape)"
   ]
  },
  {
   "cell_type": "code",
   "execution_count": 35,
   "id": "750a8bf7",
   "metadata": {},
   "outputs": [
    {
     "name": "stdout",
     "output_type": "stream",
     "text": [
      "2\n",
      "['0' '1']\n"
     ]
    }
   ],
   "source": [
    "num_classes = len(leinst.classes_)\n",
    "print(num_classes)\n",
    "print(leinst.classes_)"
   ]
  },
  {
   "cell_type": "code",
   "execution_count": 36,
   "id": "7b5c2a17",
   "metadata": {},
   "outputs": [
    {
     "name": "stdout",
     "output_type": "stream",
     "text": [
      "(14532, 300)\n"
     ]
    }
   ],
   "source": [
    "print(w2v_weights.shape)"
   ]
  },
  {
   "cell_type": "code",
   "execution_count": 37,
   "id": "f8146174",
   "metadata": {},
   "outputs": [
    {
     "data": {
      "text/plain": [
       "array([[0., 1.],\n",
       "       [1., 0.],\n",
       "       [1., 0.],\n",
       "       [1., 0.],\n",
       "       [0., 1.],\n",
       "       [0., 1.],\n",
       "       [0., 1.],\n",
       "       [0., 1.],\n",
       "       [1., 0.],\n",
       "       [0., 1.],\n",
       "       [1., 0.],\n",
       "       [0., 1.],\n",
       "       [1., 0.],\n",
       "       [0., 1.],\n",
       "       [0., 1.],\n",
       "       [1., 0.],\n",
       "       [0., 1.],\n",
       "       [0., 1.],\n",
       "       [0., 1.],\n",
       "       [1., 0.],\n",
       "       [0., 1.],\n",
       "       [0., 1.],\n",
       "       [0., 1.],\n",
       "       [1., 0.],\n",
       "       [1., 0.],\n",
       "       [0., 1.],\n",
       "       [1., 0.],\n",
       "       [0., 1.],\n",
       "       [1., 0.],\n",
       "       [1., 0.]], dtype=float32)"
      ]
     },
     "execution_count": 37,
     "metadata": {},
     "output_type": "execute_result"
    }
   ],
   "source": [
    "y_validation[20:50]"
   ]
  },
  {
   "cell_type": "code",
   "execution_count": null,
   "id": "a6417531",
   "metadata": {},
   "outputs": [
    {
     "name": "stdout",
     "output_type": "stream",
     "text": [
      "Epoch 1/5\n",
      "4174/4174 [==============================] - 368s 88ms/step - loss: 0.0750 - accuracy: 0.9532 - val_loss: 0.0155 - val_accuracy: 0.9926\n",
      "Epoch 2/5\n",
      "4174/4174 [==============================] - 364s 87ms/step - loss: 0.0158 - accuracy: 0.9921 - val_loss: 0.0160 - val_accuracy: 0.9922\n",
      "Epoch 3/5\n",
      "3052/4174 [====================>.........] - ETA: 1:47 - loss: 0.0123 - accuracy: 0.9940"
     ]
    }
   ],
   "source": [
    "model = Sequential()\n",
    "# Keras Embedding layer with Word2Vec weights initialization\n",
    "model.add(Embedding(input_dim=vocab_size,\n",
    "                    output_dim=embedding_size,\n",
    "                    weights=[embed_matrix],\n",
    "                    input_length=45,\n",
    "                    ))\n",
    "\n",
    "model.add(Bidirectional(LSTM(100)))\n",
    "model.add(Dropout(0.2))\n",
    "model.add(Dense(num_classes, activation='softmax'))\n",
    "model.add(Flatten())\n",
    "model.compile(optimizer='adam', loss='binary_crossentropy', metrics=['accuracy'])\n",
    "\n",
    "history = model.fit(X_train, y_train, epochs=5, batch_size=64,\n",
    "                    validation_data=(X_validation, y_validation), verbose=1)"
   ]
  },
  {
   "cell_type": "code",
   "execution_count": null,
   "id": "5a85999e",
   "metadata": {},
   "outputs": [],
   "source": [
    "score = model.evaluate(X_test, y_test, verbose=0)\n",
    "print(f'Test loss: {score[0]} / Test accuracy: {score[1]}')"
   ]
  },
  {
   "cell_type": "code",
   "execution_count": null,
   "id": "cf08ce3b",
   "metadata": {},
   "outputs": [],
   "source": []
  }
 ],
 "metadata": {
  "kernelspec": {
   "display_name": "Python 3 (ipykernel)",
   "language": "python",
   "name": "python3"
  },
  "language_info": {
   "codemirror_mode": {
    "name": "ipython",
    "version": 3
   },
   "file_extension": ".py",
   "mimetype": "text/x-python",
   "name": "python",
   "nbconvert_exporter": "python",
   "pygments_lexer": "ipython3",
   "version": "3.10.3"
  }
 },
 "nbformat": 4,
 "nbformat_minor": 5
}
